{
 "cells": [
  {
   "cell_type": "code",
   "execution_count": 35,
   "id": "3d535c3b",
   "metadata": {
    "scrolled": true
   },
   "outputs": [
    {
     "name": "stdout",
     "output_type": "stream",
     "text": [
      "enter your number:\n",
      "40\n",
      "Your guess is too high. Guess again\n",
      "enter your number:\n",
      "20\n",
      "Your guess is too low. Guess again\n",
      "enter your number:\n",
      "31\n",
      "Congratulations! You guessed the number correctly!\n"
     ]
    }
   ],
   "source": [
    "while True:\n",
    "    x=int(input('enter your number:\\n'))\n",
    "    if x == 31:\n",
    "        print('Congratulations! You guessed the number correctly!')\n",
    "        break\n",
    "    elif x < 31:\n",
    "        print('Your guess is too low. Guess again')\n",
    "    elif x > 31:\n",
    "        print('Your guess is too high. Guess again')"
   ]
  }
 ],
 "metadata": {
  "kernelspec": {
   "display_name": "Python 3 (ipykernel)",
   "language": "python",
   "name": "python3"
  },
  "language_info": {
   "codemirror_mode": {
    "name": "ipython",
    "version": 3
   },
   "file_extension": ".py",
   "mimetype": "text/x-python",
   "name": "python",
   "nbconvert_exporter": "python",
   "pygments_lexer": "ipython3",
   "version": "3.11.3"
  }
 },
 "nbformat": 4,
 "nbformat_minor": 5
}
