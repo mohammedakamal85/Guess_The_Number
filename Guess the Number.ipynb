{
  "cells": [
    {
      "cell_type": "code",
      "source": [
        "import random as r\n",
        "\n",
        "while True:\n",
        "    x = r.randint(1,101)\n",
        "    y = input('enter your number:\\n')\n",
        "    if y == \"I Quit\":\n",
        "        break\n",
        "    elif int(y) == x:\n",
        "        print('Congratulations! You guessed the number correctly!')\n",
        "        break\n",
        "    elif int(y) < x:\n",
        "        print('Your guess is too low. Guess again')\n",
        "    elif int(y) > x:\n",
        "        print('Your guess is too high. Guess again')\n"
      ],
      "metadata": {
        "colab": {
          "base_uri": "https://localhost:8080/"
        },
        "id": "zyUplRAf70LU",
        "outputId": "61f968d7-4b1e-4dc8-db17-52f24ea303a4"
      },
      "id": "zyUplRAf70LU",
      "execution_count": 22,
      "outputs": [
        {
          "name": "stdout",
          "output_type": "stream",
          "text": [
            "enter your number:\n",
            "34\n",
            "Your guess is too low. Guess again\n",
            "enter your number:\n",
            "55\n",
            "Your guess is too high. Guess again\n",
            "enter your number:\n",
            "67\n",
            "Your guess is too high. Guess again\n",
            "enter your number:\n",
            "12\n",
            "Your guess is too high. Guess again\n",
            "enter your number:\n",
            "I Quit\n"
          ]
        }
      ]
    }
  ],
  "metadata": {
    "kernelspec": {
      "display_name": "Python 3 (ipykernel)",
      "language": "python",
      "name": "python3"
    },
    "language_info": {
      "codemirror_mode": {
        "name": "ipython",
        "version": 3
      },
      "file_extension": ".py",
      "mimetype": "text/x-python",
      "name": "python",
      "nbconvert_exporter": "python",
      "pygments_lexer": "ipython3",
      "version": "3.11.3"
    },
    "colab": {
      "provenance": []
    }
  },
  "nbformat": 4,
  "nbformat_minor": 5
}